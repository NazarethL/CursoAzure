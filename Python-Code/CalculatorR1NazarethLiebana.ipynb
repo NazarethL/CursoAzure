{
 "cells": [
  {
   "cell_type": "markdown",
   "id": "cdb19181-7184-40a0-89f6-2d87f6993c70",
   "metadata": {},
   "source": [
    "Release: 01\n",
    "\n",
    "Nos han solicitado la implementación de la Release 1.0 de una Calculadora, que debe cumplir los siguientes requisitos:\n",
    "1. Solicitar \"Operando 1\".\n",
    "2. Solicitar \"Operando 2\".\n",
    "3. Solicitar \"Operandor\", (+, -, /, *).\n",
    "4. Resolver la operación y devolver el resultado."
   ]
  },
  {
   "cell_type": "code",
   "execution_count": null,
   "id": "3260dd2a-b293-4bf1-a38d-6b680665573f",
   "metadata": {},
   "outputs": [],
   "source": [
    "operador = 0\n",
    "\n",
    "while operador != 5:\n",
    "\n",
    "    operando1= input(\"Introduce el primer operando:\")\n",
    "    operando2= input(\"Introduce el segundo operando:\")\n",
    "\n",
    "    operador= int(input('''¿Qué operación quiere realizar?\n",
    "    1 - Sumar\n",
    "    2 - Restar\n",
    "    3 - Multiplicar\n",
    "    4 - Dividir\n",
    "    5 - Salir\n",
    "    '''))\n",
    "\n",
    "    if operador==1:\n",
    "        solucion = int(operando1) + int(operando2)\n",
    "        print(\"Solucion: \" + str(solucion))\n",
    "    elif operador==2:\n",
    "        solucion = int(operando1) - int(operando2)\n",
    "        print(\"Solucion: \" + str(solucion))\n",
    "    elif operador==3:\n",
    "        solucion = int(operando1) / int(operando2)\n",
    "        print(\"Solucion: \" + str(solucion))\n",
    "    elif operador==4:\n",
    "        solucion = int(operando1) * int(operando2)\n",
    "        print(\"Solucion: \" + str(solucion))\n",
    "    elif operador==5:\n",
    "        print(\"Hasta la próxima.\")\n",
    "    else:\n",
    "        print(\"No ha introducido una operación válida, vuelva a intentarlo.\")\n",
    "        operador = 0\n",
    "    "
   ]
  }
 ],
 "metadata": {
  "kernelspec": {
   "display_name": "Python 3 (ipykernel)",
   "language": "python",
   "name": "python3"
  },
  "language_info": {
   "codemirror_mode": {
    "name": "ipython",
    "version": 3
   },
   "file_extension": ".py",
   "mimetype": "text/x-python",
   "name": "python",
   "nbconvert_exporter": "python",
   "pygments_lexer": "ipython3",
   "version": "3.12.7"
  }
 },
 "nbformat": 4,
 "nbformat_minor": 5
}
