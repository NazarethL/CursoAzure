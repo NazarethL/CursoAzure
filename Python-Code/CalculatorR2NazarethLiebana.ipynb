{
 "cells": [
  {
   "cell_type": "markdown",
   "id": "d23e7193-f07a-4a8a-959c-3c772fb3a88d",
   "metadata": {},
   "source": [
    "Release: 02\n",
    "\n",
    "Implementar la Release 2.0 de la Calculadora, en la que deberán implementarse las siguientes validaciones y funcionalidades:\n",
    "\n",
    "1. Validaciones:\n",
    "    1. Que los “Operandos” sean numéricos\n",
    "    2. Que el “Operador” sean sólo los permitidos\n",
    "    3. En casos de error, se debe indicar el mensaje correspondiente\n",
    "3. Funcionalidades:\n",
    "    1. El funcionamiento debe ser “iterativo”, (se podrá repetir, hasta que el usuario indique que desea finalizar la ejecución)"
   ]
  },
  {
   "cell_type": "code",
   "execution_count": null,
   "id": "104cbead-8fd7-4001-80c4-6271aa0f0f19",
   "metadata": {},
   "outputs": [],
   "source": [
    "operador = 0\n",
    "\n",
    "while operador != 5:\n",
    "\n",
    "    try:\n",
    "        operando1= float(input(\"Introduce el primer operando:\"))\n",
    "        operando2= float(input(\"Introduce el segundo operando:\"))\n",
    "    \n",
    "        operador= input('''¿Qué operación quiere realizar?\n",
    "        1 - Sumar\n",
    "        2 - Restar\n",
    "        3 - Multiplicar\n",
    "        4 - Dividir\n",
    "        5 - Salir\n",
    "        ''')\n",
    "    \n",
    "        if operador==1:\n",
    "            solucion = operando1 + operando2\n",
    "            print(\"Solucion: \" + str(solucion))\n",
    "        elif operador==2:\n",
    "            solucion = operando1 - operando2\n",
    "            print(\"Solucion: \" + str(solucion))\n",
    "        elif operador==3:\n",
    "            solucion = operando1 / operando2\n",
    "            print(\"Solucion: \" + str(solucion))\n",
    "        elif operador==4:\n",
    "            solucion = operando1 * operando2\n",
    "            print(\"Solucion: \" + str(solucion))\n",
    "        elif operador==5:\n",
    "            print(\"Hasta la próxima.\")\n",
    "        else:\n",
    "            print(\"No ha introducido una operación válida, vuelva a intentarlo.\")\n",
    "            operador = 0\n",
    "            \n",
    "    except ValueError:\n",
    "        print(\"Introduzca un número válido.\")   "
   ]
  }
 ],
 "metadata": {
  "kernelspec": {
   "display_name": "Python 3 (ipykernel)",
   "language": "python",
   "name": "python3"
  },
  "language_info": {
   "codemirror_mode": {
    "name": "ipython",
    "version": 3
   },
   "file_extension": ".py",
   "mimetype": "text/x-python",
   "name": "python",
   "nbconvert_exporter": "python",
   "pygments_lexer": "ipython3",
   "version": "3.12.7"
  }
 },
 "nbformat": 4,
 "nbformat_minor": 5
}
