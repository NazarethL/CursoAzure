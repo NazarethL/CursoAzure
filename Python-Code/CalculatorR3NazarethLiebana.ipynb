{
 "cells": [
  {
   "cell_type": "markdown",
   "id": "73d81cac-15be-446d-be4f-8ae4dfb4e106",
   "metadata": {},
   "source": [
    "Release: 03\n",
    "\n",
    "En la Release 3.0 de la Calculadora, se aplicará la idea de la “reutilización de código”, por lo que la implementación deberá contemplar el uso de “funciones”."
   ]
  },
  {
   "cell_type": "code",
   "execution_count": null,
   "id": "26e901da-3132-4c50-ac99-943c0ea8d2f5",
   "metadata": {},
   "outputs": [],
   "source": [
    "def datos():\n",
    "    try:\n",
    "        operando1= float(input(\"Introduce el primer operando:\"))\n",
    "        operando2= float(input(\"Introduce el segundo operando:\"))\n",
    "    \n",
    "        operador= input('''¿Qué operación quiere realizar?\n",
    "        1 - Sumar\n",
    "        2 - Restar\n",
    "        3 - Multiplicar\n",
    "        4 - Dividir\n",
    "        5 - Salir\n",
    "        ''')\n",
    "        return operando1, operando2, int(operador)\n",
    "    except ValueError:\n",
    "        print(\"Introduzca un número válido.\")\n",
    "        return 'error', 0, 0\n",
    "\n",
    "def suma(a, b):\n",
    "    solucion = a + b\n",
    "    return solucion\n",
    "    \n",
    "def resta(a, b):\n",
    "    solucion = a - b\n",
    "    return solucion\n",
    "\n",
    "def multiplicacion(a, b):\n",
    "    solucion = a * b\n",
    "    return solucion\n",
    "\n",
    "def division(a, b):\n",
    "    solucion = a / b\n",
    "    return solucion\n",
    "\n",
    "o = 0\n",
    "\n",
    "while o != 5:\n",
    "\n",
    "    a, b, o = datos()\n",
    "    \n",
    "    if o==1:\n",
    "        print (\"Solucion: {0}\".format(suma(a,b)))\n",
    "    elif o==2:\n",
    "        print(\"Solucion: {0}\".format(resta(a,b)))\n",
    "    elif o==3:\n",
    "        print(\"Solucion: {0}\".format(multiplicacion(a,b)))\n",
    "    elif o==4:\n",
    "        print(\"Solucion: {0}\".format(division(a,b)))\n",
    "    elif o==5:\n",
    "        print(\"Hasta la próxima.\")\n",
    "        break\n",
    "    elif a!='error':\n",
    "        print(\"No ha introducido una operación válida, vuelva a intentarlo.\")"
   ]
  },
  {
   "cell_type": "code",
   "execution_count": null,
   "id": "c9d83289-32a3-44e8-96b1-29506d9aaaf8",
   "metadata": {},
   "outputs": [],
   "source": []
  }
 ],
 "metadata": {
  "kernelspec": {
   "display_name": "Python 3 (ipykernel)",
   "language": "python",
   "name": "python3"
  },
  "language_info": {
   "codemirror_mode": {
    "name": "ipython",
    "version": 3
   },
   "file_extension": ".py",
   "mimetype": "text/x-python",
   "name": "python",
   "nbconvert_exporter": "python",
   "pygments_lexer": "ipython3",
   "version": "3.12.7"
  }
 },
 "nbformat": 4,
 "nbformat_minor": 5
}
