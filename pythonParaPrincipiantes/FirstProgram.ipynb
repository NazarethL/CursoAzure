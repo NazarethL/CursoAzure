{
 "cells": [
  {
   "cell_type": "markdown",
   "metadata": {},
   "source": [
    "## Display today's date"
   ]
  },
  {
   "cell_type": "code",
   "execution_count": null,
   "metadata": {},
   "outputs": [],
   "source": [
    "from datetime import date\n",
    "print(date.today())"
   ]
  },
  {
   "cell_type": "markdown",
   "metadata": {},
   "source": [
    "## Built a unit converter"
   ]
  },
  {
   "cell_type": "code",
   "execution_count": null,
   "metadata": {},
   "outputs": [],
   "source": [
    "parsecs = 11\n",
    "lightyears = parsecs * 3.26\n",
    "print(str(parsecs) + \" segundos son \" + str(lightyears) + \" años luz\")"
   ]
  },
  {
   "cell_type": "markdown",
   "metadata": {},
   "source": [
    "## Creating reusable applications\n",
    "\n",
    "Accepting user input"
   ]
  },
  {
   "cell_type": "code",
   "execution_count": null,
   "metadata": {},
   "outputs": [],
   "source": [
    "parsecs_input = input(\"Introduce un número de segundos:\")\n",
    "parsecs = int(parsecs_input)\n",
    "lightyears = 3.26156 * parsecs\n",
    "\n",
    "print(parsecs_input + \" segundos son \" + str(lightyears) + \" años luz\")"
   ]
  },
  {
   "cell_type": "markdown",
   "metadata": {},
   "source": [
    "## Lista de estudiantes\n",
    "\n",
    "Crea una lista con los nombres de cinco estudiantes. Añade un nuevo estudiante al final de la lista, luego elimina el tercer estudiante. Imprime la lista resultante."
   ]
  },
  {
   "cell_type": "code",
   "execution_count": null,
   "metadata": {},
   "outputs": [],
   "source": [
    "estudiantes = [\"Andrés\", \"Carolina\", \"Silvia\", \"Marina\", \"Elias\"]\n",
    "estudiantes.append(\"Jules\")\n",
    "estudiantes.remove(estudiantes[2])\n",
    "print(estudiantes)"
   ]
  },
  {
   "cell_type": "markdown",
   "metadata": {},
   "source": [
    "## Tupla de fechas\n",
    "\n",
    "Crea una tupla que contenga tres fechas importantes(como cumpleaños o aniversarios). Intenta modificar una de las fechas y observa el error que se genera."
   ]
  },
  {
   "cell_type": "code",
   "execution_count": null,
   "metadata": {},
   "outputs": [],
   "source": [
    "fechas_importantes = (\"1995-06-15\", \"2000-12-25\", \"2010-03-20\")\n",
    "fechas_importantes[1]= \"2025-01-08\""
   ]
  },
  {
   "cell_type": "markdown",
   "metadata": {},
   "source": [
    "## Set de colores\n",
    "\n",
    "Crea un set con los nombres de cuatro colores. Añade un nuevo color y luego elimina uno de los colores existentes. Imprime el set resultante."
   ]
  },
  {
   "cell_type": "code",
   "execution_count": null,
   "metadata": {},
   "outputs": [],
   "source": [
    "colores = {\"rojo\", \"azul\", \"naranja\", \"negro\"}\n",
    "colores.add(\"morado\")\n",
    "colores.remove(\"negro\")\n",
    "print(colores)"
   ]
  },
  {
   "cell_type": "markdown",
   "metadata": {},
   "source": [
    "## Diccionario de precios\n",
    "\n",
    "Crea un diccionario que contenga tres productos como claves y sus respectivos precios como valores. Actualiza el precio de uno de los productos y añade un nuevo producto con su precio. Imprime el diccionario resultante."
   ]
  },
  {
   "cell_type": "code",
   "execution_count": null,
   "metadata": {},
   "outputs": [],
   "source": [
    "productos = {\n",
    "    \"zumo de manzana\": 2.5,\n",
    "    \"guisantes congelados\": 4.99,\n",
    "    \"yogures griegos azucarados\": 3.45\n",
    "}\n",
    "\n",
    "productos[\"guisantes congelados\"] = 6.40\n",
    "productos[\"vino\"] = 14.70\n",
    "print(productos)"
   ]
  }
 ],
 "metadata": {
  "kernelspec": {
   "display_name": "Python 3",
   "language": "python",
   "name": "python3"
  },
  "language_info": {
   "codemirror_mode": {
    "name": "ipython",
    "version": 3
   },
   "file_extension": ".py",
   "mimetype": "text/x-python",
   "name": "python",
   "nbconvert_exporter": "python",
   "pygments_lexer": "ipython3",
   "version": "3.12.1"
  }
 },
 "nbformat": 4,
 "nbformat_minor": 2
}
