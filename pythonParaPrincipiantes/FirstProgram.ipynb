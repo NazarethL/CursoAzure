{
 "cells": [
  {
   "cell_type": "markdown",
   "metadata": {},
   "source": [
    "## Display today's date"
   ]
  },
  {
   "cell_type": "code",
   "execution_count": null,
   "metadata": {},
   "outputs": [],
   "source": [
    "from datetime import date\n",
    "print(date.today())"
   ]
  },
  {
   "cell_type": "markdown",
   "metadata": {},
   "source": [
    "## Built a unit converter"
   ]
  },
  {
   "cell_type": "code",
   "execution_count": null,
   "metadata": {},
   "outputs": [],
   "source": [
    "parsecs = 11\n",
    "lightyears = parsecs * 3.26\n",
    "print(str(parsecs) + \" segundos son \" + str(lightyears) + \" años luz\")"
   ]
  },
  {
   "cell_type": "markdown",
   "metadata": {},
   "source": [
    "## Creating reusable applications\n",
    "\n",
    "Accepting user input"
   ]
  },
  {
   "cell_type": "code",
   "execution_count": null,
   "metadata": {},
   "outputs": [],
   "source": [
    "parsecs_input = input(\"Introduce un número de segundos:\")\n",
    "parsecs = int(parsecs_input)\n",
    "lightyears = 3.26156 * parsecs\n",
    "\n",
    "print(parsecs_input + \" segundos son \" + str(lightyears) + \" años luz\")"
   ]
  },
  {
   "cell_type": "markdown",
   "metadata": {},
   "source": [
    "## Lista de estudiantes\n",
    "\n",
    "Crea una lista con los nombres de cinco estudiantes. Añade un nuevo estudiante al final de la lista, luego elimina el tercer estudiante. Imprime la lista resultante."
   ]
  },
  {
   "cell_type": "code",
   "execution_count": null,
   "metadata": {},
   "outputs": [],
   "source": [
    "estudiantes = [\"Andrés\", \"Carolina\", \"Silvia\", \"Marina\", \"Elias\"]\n",
    "estudiantes.append(\"Jules\")\n",
    "estudiantes.remove(estudiantes[2])\n",
    "print(estudiantes)"
   ]
  },
  {
   "cell_type": "markdown",
   "metadata": {},
   "source": [
    "## Tupla de fechas\n",
    "\n",
    "Crea una tupla que contenga tres fechas importantes(como cumpleaños o aniversarios). Intenta modificar una de las fechas y observa el error que se genera."
   ]
  },
  {
   "cell_type": "code",
   "execution_count": null,
   "metadata": {},
   "outputs": [],
   "source": [
    "fechas_importantes = (\"1995-06-15\", \"2000-12-25\", \"2010-03-20\")\n",
    "fechas_importantes[1]= \"2025-01-08\""
   ]
  },
  {
   "cell_type": "markdown",
   "metadata": {},
   "source": [
    "## Set de colores\n",
    "\n",
    "Crea un set con los nombres de cuatro colores. Añade un nuevo color y luego elimina uno de los colores existentes. Imprime el set resultante."
   ]
  },
  {
   "cell_type": "code",
   "execution_count": null,
   "metadata": {},
   "outputs": [],
   "source": [
    "colores = {\"rojo\", \"azul\", \"naranja\", \"negro\"}\n",
    "colores.add(\"morado\")\n",
    "colores.remove(\"negro\")\n",
    "print(colores)"
   ]
  },
  {
   "cell_type": "markdown",
   "metadata": {},
   "source": [
    "## Diccionario de precios\n",
    "\n",
    "Crea un diccionario que contenga tres productos como claves y sus respectivos precios como valores. Actualiza el precio de uno de los productos y añade un nuevo producto con su precio. Imprime el diccionario resultante."
   ]
  },
  {
   "cell_type": "code",
   "execution_count": null,
   "metadata": {},
   "outputs": [],
   "source": [
    "productos = {\n",
    "    \"zumo de manzana\": 2.5,\n",
    "    \"guisantes congelados\": 4.99,\n",
    "    \"yogures griegos azucarados\": 3.45\n",
    "}\n",
    "\n",
    "productos[\"guisantes congelados\"] = 6.40\n",
    "productos[\"vino\"] = 14.70\n",
    "print(productos)"
   ]
  },
  {
   "cell_type": "markdown",
   "metadata": {},
   "source": [
    "## In, Any, All\n",
    "\n",
    "In -> Comprobar si está en la colección\n",
    "\n",
    "Any -> Comprobar si hay al menos un \"true\" en la colección\n",
    "\n",
    "All -> Comprobar si todos son \"true\""
   ]
  },
  {
   "cell_type": "code",
   "execution_count": null,
   "metadata": {},
   "outputs": [],
   "source": [
    "frutas = [\"manzana\", \"naranja\", \"pera\"]\n",
    "print(\"manzana\" in frutas)\n",
    "print(\"nabo\" in frutas)\n",
    "\n",
    "saludo = \"Hola mundo\"\n",
    "print(\"do\" in saludo)\n",
    "\n",
    "contactos = {\"Alice\": \"539.645.789\", \"Pedro\": \"654.356.236\"}\n",
    "print(\"Alice\" in contactos)\n",
    "print(\"789\" in contactos[\"Alice\"])\n",
    "print(\"654.356.236\" in contactos.values())"
   ]
  },
  {
   "cell_type": "code",
   "execution_count": null,
   "metadata": {},
   "outputs": [],
   "source": [
    "valores = [False, True, False]\n",
    "print(any(valores))\n",
    "print(all(valores))\n",
    "valores.remove(True)\n",
    "print(any(valores))\n",
    "valores = [True, True]\n",
    "print(all(valores))"
   ]
  },
  {
   "cell_type": "code",
   "execution_count": null,
   "metadata": {},
   "outputs": [],
   "source": [
    "if(any(valores)):\n",
    "    print(\"Al menos una de las condiciones es cierta\")\n",
    "else:\n",
    "    print(\"Ninguna de las condiciones es cierta\")"
   ]
  },
  {
   "cell_type": "markdown",
   "metadata": {},
   "source": [
    "## Reto final\n",
    "\n",
    "Vas a crear un sencillo sistema de gestión de contactos. Este sistema debe permitir agregar contactos, actualizar su número de teléfono, eliminar contactos y mostrar todos los contactos. Cada contacto tendrá un nombre y un número de teléfono.\n",
    "\n",
    "Requisitos:\n",
    "\n",
    "- Agregar Contacto:\n",
    "    - El usuario debe poder agregar un contacto especificando el nombre y el número de teléfono.\n",
    "    - No debe permitir agregar contactos con el mismo nombre dos veces.\n",
    "\n",
    "- Actualizar teléfono:\n",
    "    - El usuario debe poder eliminar un contacto de la lista por su nombre.\n",
    "\n",
    "- Eliminar contacto:\n",
    "    - El usuario debe poder eliminar un contacto de la lista por su nombre.\n",
    "\n",
    "- Mostrar Contactos:\n",
    "    - El sistema debe poder mostrar una lista de todos los contactos, incluyendo nombre y número de teléfono.\n",
    "\n",
    "Debes utilizar inputs para introducir la operación que quieres realizar y pedir los datos necesarios para realizarla."
   ]
  },
  {
   "cell_type": "code",
   "execution_count": null,
   "metadata": {},
   "outputs": [
    {
     "name": "stdout",
     "output_type": "stream",
     "text": [
      "El contacto ha sido actualizado correctamente.\n",
      "{'Ana': '123.123.123'}\n",
      "El contacto ha sido añadido correctamente.\n",
      "{'Ana': '123.123.123', 'Roberto': '234.234.234'}\n",
      "El contacto ha sido eliminado correctamente.\n",
      "{'Roberto': '234.234.234'}\n",
      "{'Roberto': '234.234.234'}\n",
      "{'Roberto': '234.234.234'}\n",
      "Hasta pronto.\n",
      "{'Roberto': '234.234.234'}\n"
     ]
    }
   ],
   "source": [
    "contactos = {\"Ana\": \"123.456.789\"}\n",
    "operacion = \"0\"\n",
    "\n",
    "while operacion != \"5\":\n",
    "\n",
    "    operacion = input(\"\"\"Introduzca el número de la operación que quiere realizar:\n",
    "                  1. Agregar Contacto.\n",
    "                  2. Actualizar Contacto.\n",
    "                  3. Eliminar Contacto.\n",
    "                  4. Mostrar Contactos.\n",
    "                  5. Salir.\"\"\")\n",
    "    \n",
    "    if(operacion == \"1\"):\n",
    "        nombre = input(\"Introduzca el nombre del contacto:\")\n",
    "        if(nombre in contactos):\n",
    "            print(\"Este contacto ya existe\")\n",
    "        else:\n",
    "            tel = input(\"Introduzca el número de teléfono del contacto:\")\n",
    "            contactos[nombre] = tel\n",
    "            print(\"El contacto ha sido añadido correctamente.\")\n",
    "    elif(operacion == \"2\"):\n",
    "        nombre = input(\"Introduzca el nombre del contacto:\")\n",
    "        if(nombre in contactos):\n",
    "            tel = input(\"Introduzca el número de teléfono del contacto:\")\n",
    "            contactos[nombre] = tel\n",
    "            print(\"El contacto ha sido actualizado correctamente.\")\n",
    "        else:\n",
    "            print(\"Este contacto no existe\")\n",
    "    elif(operacion == \"3\"):\n",
    "        nombre = input(\"Introduzca el nombre del contacto:\")\n",
    "        if(nombre in contactos):\n",
    "            contactos.pop(nombre)\n",
    "            print(\"El contacto ha sido eliminado correctamente.\")\n",
    "        else:\n",
    "            print(\"Este contacto no existe\")\n",
    "    elif(operacion == \"4\"):\n",
    "        print(contactos)\n",
    "    elif(operacion == \"5\"):\n",
    "        print(\"Hasta pronto.\")\n",
    "    else:\n",
    "        print(\"No se ha podido realizar la operación, vuelva a intentarlo.\")"
   ]
  }
 ],
 "metadata": {
  "kernelspec": {
   "display_name": "Python 3",
   "language": "python",
   "name": "python3"
  },
  "language_info": {
   "codemirror_mode": {
    "name": "ipython",
    "version": 3
   },
   "file_extension": ".py",
   "mimetype": "text/x-python",
   "name": "python",
   "nbconvert_exporter": "python",
   "pygments_lexer": "ipython3",
   "version": "3.12.1"
  }
 },
 "nbformat": 4,
 "nbformat_minor": 2
}
